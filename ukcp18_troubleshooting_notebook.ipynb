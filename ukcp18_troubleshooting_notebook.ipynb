{
 "cells": [
  {
   "cell_type": "markdown",
   "metadata": {},
   "source": [
    "## UKCP 18 rainfall processing\n",
    "\n",
    "- Author: Sam Hardy (modified from Changgui Wang's original Python code)\n",
    "\n",
    "- Import Python code from `ukcp18_download_and_processing`"
   ]
  },
  {
   "cell_type": "code",
   "execution_count": 1,
   "metadata": {},
   "outputs": [],
   "source": [
    "import os\n",
    "import xarray as xr\n",
    "from ukcp18_download_and_processing import call_api_and_process_ukcp_data\n",
    "from netCDF4 import Dataset\n",
    "from urllib.parse import urlparse"
   ]
  },
  {
   "cell_type": "markdown",
   "metadata": {},
   "source": [
    "### Define variables"
   ]
  },
  {
   "cell_type": "code",
   "execution_count": 2,
   "metadata": {},
   "outputs": [],
   "source": [
    "year = 2021\n",
    "month = 3\n",
    "month1 = 2\n",
    "ensemble_member_id = 1\n",
    "projection_id = 2 # 2021-2040 time slice\n",
    "var_id = 'pr'\n",
    "ukcp_url=f'https://dap.ceda.ac.uk/badc/ukcp18/data/land-cpm/uk/2.2km/rcp85/01/{var_id}/1hr/v20210615/{var_id}_rcp85_land-cpm_uk_2.2km_01_1hr_{year}{month}01-{year}{month}30.nc'\n",
    "ukcp_local=[f'/mnt/metdata/2024s1475/InputData/{var_id}_rcp85_land-cpm_uk_2.2km_01_1hr_{year}{month:02d}01-{year}{month:02d}30.nc',\n",
    "            f'/mnt/metdata/2024s1475/InputData/{var_id}_rcp85_land-cpm_uk_2.2km_01_1hr_{year}{month1:02d}01-{year}{month1:02d}30.nc']\n",
    "out_file_path='./'\n",
    "config_file_path=f'/mnt/metdata/2024s1475/InputData/config.json'"
   ]
  },
  {
   "cell_type": "markdown",
   "metadata": {},
   "source": [
    "### Run the Python code using functions"
   ]
  },
  {
   "cell_type": "code",
   "execution_count": 3,
   "metadata": {},
   "outputs": [],
   "source": [
    "nc_datasets = []\n",
    "\n",
    "for filename in ukcp_local:\n",
    "    nc_datasets.append(Dataset(filename))\n",
    "\n",
    "xarray_datasets = []\n",
    "for nc_data in nc_datasets:\n",
    "    if nc_data is None:\n",
    "        continue\n",
    "    ds = xr.open_dataset(xr.backends.NetCDF4DataStore(nc_data), chunks={\"time\": 30})\n",
    "    xarray_datasets.append(ds)\n",
    "\n",
    "# combine datasets using xarray if required, and re-chunk\n",
    "if len(xarray_datasets) > 1:\n",
    "    combined_ds = xr.concat(xarray_datasets, dim=\"time\").chunk({\"time\": 60})\n",
    "elif xarray_datasets:\n",
    "    xarray_datasets = xarray_datasets[0]\n",
    "else:\n",
    "    print(\"No datasets were opened!\")"
   ]
  },
  {
   "cell_type": "code",
   "execution_count": 4,
   "metadata": {},
   "outputs": [],
   "source": [
    "from typing import Dict\n",
    "import dask\n",
    "import xarray as xr\n",
    "import dask.config\n",
    "import timeit\n",
    "import json\n",
    "import convert_ll2str as c2str\n",
    "from typing import Dict\n",
    "from ukcp18_processing_functions import get_dry_days, get_month_total, get_start_year, rolling_window_sum, get_bin_counts\n",
    "\n",
    "def load_config(config_path: str):\n",
    "    with open(config_path, 'r') as file: \n",
    "        config = json.load(file)\n",
    "        return config \n",
    "\n",
    "def process_ukcp_data(ds: xr.Dataset,\n",
    "                      output_file_path: str, \n",
    "                      config: Dict,\n",
    "                      year: int, \n",
    "                      month: int,\n",
    "                      member_id: int,\n",
    "                      proj_id: str,\n",
    "                      mask_1D: xr.Dataset):\n",
    "    \"\"\"\n",
    "    Read UKCP18 (climate model) daily precipitation data \n",
    "\n",
    "    input_file_path: path to input file url (API)\n",
    "    output_file_path: path to output files\n",
    "    year: year to analyse (e.g. 2035)\n",
    "    month: month to analyse (e.g. 8 for August)\n",
    "    var_id: cf-compliant variable ID (e.g. pr, tas)\n",
    "    member_id: ensemble member ID (01, 04, 05, ..., 15)\n",
    "    mask_1D: xarray Dataset containing 1D land-ocean mask \n",
    "    \"\"\"\n",
    "\n",
    "    with dask.config.set(**{'array.slicing.split_large_chunks': True}):\n",
    "        ds = ds.stack(location=(\"grid_latitude\", \"grid_longitude\"))\n",
    "        ids = c2str.get_cell_ids(ds.location.values)\n",
    "        ds.coords['location_id'] = ('location', ids)\n",
    "        ds = ds.where(ds.bnds == 0, drop=True)\n",
    "        for item in config[\"remove_items\"]:\n",
    "            del ds[item]\n",
    "        for item in config[\"squeeze_coords\"]:\n",
    "            ds = ds.squeeze(item)\n",
    "\n",
    "        ds = ds.where(mask_1D[\"WCID\"] >= 0, drop=True)\n",
    "\n",
    "        starttime = timeit.default_timer()\n",
    "\n",
    "        for wcid in range(config[\"NUMBER_OF_WC\"]):\n",
    "            print(f\"Working on water company {str(wcid)}\")\n",
    "            ds_mask = ds.where(mask_1D.WCID == wcid, drop=True)\n",
    "\n",
    "            print(f\"Starting dry days calculation...\")\n",
    "            get_dry_days(ds_mask, \n",
    "                            year, \n",
    "                            month,\n",
    "                            member_id, \n",
    "                            wcid, \n",
    "                            proj_id, \n",
    "                            output_file_path)\n",
    "            \n",
    "            print(f\"Starting total rainfall calculation...\")\n",
    "            get_month_total(ds_mask, \n",
    "                            year, \n",
    "                            month, \n",
    "                            member_id, \n",
    "                            wcid, \n",
    "                            proj_id, \n",
    "                            output_file_path)\n",
    "\n",
    "            for duration_str, start_hour in config[\"accum_duration_start\"].items():\n",
    "                duration = int(duration_str)\n",
    "                start = get_start_year(year, month, start_hour)\n",
    "                precip = ds_mask.where(ds['time'] >= start, drop=True)\n",
    "\n",
    "                print(f\"Calculating {str(duration)}-h accumulated precip, starting at {str(start_hour)}Z\")\n",
    "                if duration > 1:\n",
    "                    ds_window = rolling_window_sum(precip, duration)\n",
    "                    ds_window = ds_window.rename({\"pr\": \"pr_sum\"})\n",
    "                    ds_window = ds_window.assign(pr=precip.pr)\n",
    "                    ds_window['time'] = ds_window[\"time\"].dt.strftime(\"%Y-%m-%d %H:%M\")\n",
    "                    df_window = ds_window.to_dataframe()\n",
    "                    df_window.index = df_window.index.droplevel(['grid_latitude', 'grid_longitude'])\n",
    "\n",
    "                else:\n",
    "                    ds_window = precip\n",
    "                    ds_window = ds_window.rename({\"pr\": \"pr_sum\"})\n",
    "                    ds_window = ds_window.assign(pr=precip.pr)\n",
    "                    ds_window['time'] = ds_window[\"time\"].dt.strftime(\"%Y-%m-%d %H:%M\")\n",
    "                    df_window = ds_window.to_dataframe()\n",
    "                    df_window = df_window[df_window['month_number'] == month]\n",
    "                    df_window.index = df_window.index.droplevel(['grid_latitude', 'grid_longitude'])\n",
    "\n",
    "                print(\"Starting bin counts calculation!\")\n",
    "                get_bin_counts(df_window, \n",
    "                                year,\n",
    "                                month, \n",
    "                                member_id, \n",
    "                                duration, \n",
    "                                wcid, \n",
    "                                output_file_path,\n",
    "                                proj_id, \n",
    "                                config)\n",
    "\n",
    "                precip = None\n",
    "\n",
    "        print(\"This code took :\", timeit.default_timer() - starttime,\" (s) to run...\")\n",
    "\n",
    "        ds.close()"
   ]
  },
  {
   "cell_type": "code",
   "execution_count": 5,
   "metadata": {},
   "outputs": [
    {
     "name": "stdout",
     "output_type": "stream",
     "text": [
      "Working on water company 0\n",
      "Starting dry days calculation...\n",
      "Starting total rainfall calculation...\n",
      "Calculating 1-h accumulated precip, starting at 23Z\n"
     ]
    },
    {
     "ename": "KeyboardInterrupt",
     "evalue": "",
     "output_type": "error",
     "traceback": [
      "\u001b[0;31m---------------------------------------------------------------------------\u001b[0m",
      "\u001b[0;31mKeyboardInterrupt\u001b[0m                         Traceback (most recent call last)",
      "Cell \u001b[0;32mIn[5], line 5\u001b[0m\n\u001b[1;32m      2\u001b[0m mask_ds \u001b[38;5;241m=\u001b[39m xr\u001b[38;5;241m.\u001b[39mopen_dataset(config[\u001b[38;5;124m\"\u001b[39m\u001b[38;5;124mmask_nc_filename\u001b[39m\u001b[38;5;124m\"\u001b[39m])\n\u001b[1;32m      3\u001b[0m mask_1D \u001b[38;5;241m=\u001b[39m mask_ds\u001b[38;5;241m.\u001b[39mstack(location\u001b[38;5;241m=\u001b[39m(\u001b[38;5;124m\"\u001b[39m\u001b[38;5;124mgrid_latitude\u001b[39m\u001b[38;5;124m\"\u001b[39m, \u001b[38;5;124m\"\u001b[39m\u001b[38;5;124mgrid_longitude\u001b[39m\u001b[38;5;124m\"\u001b[39m))\n\u001b[0;32m----> 5\u001b[0m \u001b[43mprocess_ukcp_data\u001b[49m\u001b[43m(\u001b[49m\u001b[43mcombined_ds\u001b[49m\u001b[43m,\u001b[49m\u001b[43m \u001b[49m\n\u001b[1;32m      6\u001b[0m \u001b[43m                  \u001b[49m\u001b[43mout_file_path\u001b[49m\u001b[43m,\u001b[49m\n\u001b[1;32m      7\u001b[0m \u001b[43m                  \u001b[49m\u001b[43mconfig\u001b[49m\u001b[43m,\u001b[49m\n\u001b[1;32m      8\u001b[0m \u001b[43m                  \u001b[49m\u001b[43myear\u001b[49m\u001b[43m,\u001b[49m\u001b[43m \u001b[49m\n\u001b[1;32m      9\u001b[0m \u001b[43m                  \u001b[49m\u001b[43mmonth\u001b[49m\u001b[43m,\u001b[49m\u001b[43m \u001b[49m\n\u001b[1;32m     10\u001b[0m \u001b[43m                  \u001b[49m\u001b[43mensemble_member_id\u001b[49m\u001b[43m,\u001b[49m\u001b[43m \u001b[49m\n\u001b[1;32m     11\u001b[0m \u001b[43m                  \u001b[49m\u001b[43mprojection_id\u001b[49m\u001b[43m,\u001b[49m\u001b[43m \u001b[49m\n\u001b[1;32m     12\u001b[0m \u001b[43m                  \u001b[49m\u001b[43mmask_1D\u001b[49m\u001b[43m)\u001b[49m\n",
      "Cell \u001b[0;32mIn[4], line 91\u001b[0m, in \u001b[0;36mprocess_ukcp_data\u001b[0;34m(ds, output_file_path, config, year, month, member_id, proj_id, mask_1D)\u001b[0m\n\u001b[1;32m     89\u001b[0m ds_window \u001b[38;5;241m=\u001b[39m ds_window\u001b[38;5;241m.\u001b[39massign(pr\u001b[38;5;241m=\u001b[39mprecip\u001b[38;5;241m.\u001b[39mpr)\n\u001b[1;32m     90\u001b[0m ds_window[\u001b[38;5;124m'\u001b[39m\u001b[38;5;124mtime\u001b[39m\u001b[38;5;124m'\u001b[39m] \u001b[38;5;241m=\u001b[39m ds_window[\u001b[38;5;124m\"\u001b[39m\u001b[38;5;124mtime\u001b[39m\u001b[38;5;124m\"\u001b[39m]\u001b[38;5;241m.\u001b[39mdt\u001b[38;5;241m.\u001b[39mstrftime(\u001b[38;5;124m\"\u001b[39m\u001b[38;5;124m%\u001b[39m\u001b[38;5;124mY-\u001b[39m\u001b[38;5;124m%\u001b[39m\u001b[38;5;124mm-\u001b[39m\u001b[38;5;132;01m%d\u001b[39;00m\u001b[38;5;124m \u001b[39m\u001b[38;5;124m%\u001b[39m\u001b[38;5;124mH:\u001b[39m\u001b[38;5;124m%\u001b[39m\u001b[38;5;124mM\u001b[39m\u001b[38;5;124m\"\u001b[39m)\n\u001b[0;32m---> 91\u001b[0m df_window \u001b[38;5;241m=\u001b[39m \u001b[43mds_window\u001b[49m\u001b[38;5;241;43m.\u001b[39;49m\u001b[43mto_dataframe\u001b[49m\u001b[43m(\u001b[49m\u001b[43m)\u001b[49m\n\u001b[1;32m     92\u001b[0m df_window \u001b[38;5;241m=\u001b[39m df_window[df_window[\u001b[38;5;124m'\u001b[39m\u001b[38;5;124mmonth_number\u001b[39m\u001b[38;5;124m'\u001b[39m] \u001b[38;5;241m==\u001b[39m month]\n\u001b[1;32m     93\u001b[0m df_window\u001b[38;5;241m.\u001b[39mindex \u001b[38;5;241m=\u001b[39m df_window\u001b[38;5;241m.\u001b[39mindex\u001b[38;5;241m.\u001b[39mdroplevel([\u001b[38;5;124m'\u001b[39m\u001b[38;5;124mgrid_latitude\u001b[39m\u001b[38;5;124m'\u001b[39m, \u001b[38;5;124m'\u001b[39m\u001b[38;5;124mgrid_longitude\u001b[39m\u001b[38;5;124m'\u001b[39m])\n",
      "File \u001b[0;32m~/miniforge3/envs/2024s1475-env/lib/python3.12/site-packages/xarray/core/dataset.py:7489\u001b[0m, in \u001b[0;36mDataset.to_dataframe\u001b[0;34m(self, dim_order)\u001b[0m\n\u001b[1;32m   7461\u001b[0m \u001b[38;5;250m\u001b[39m\u001b[38;5;124;03m\"\"\"Convert this dataset into a pandas.DataFrame.\u001b[39;00m\n\u001b[1;32m   7462\u001b[0m \n\u001b[1;32m   7463\u001b[0m \u001b[38;5;124;03mNon-index variables in this dataset form the columns of the\u001b[39;00m\n\u001b[0;32m   (...)\u001b[0m\n\u001b[1;32m   7484\u001b[0m \n\u001b[1;32m   7485\u001b[0m \u001b[38;5;124;03m\"\"\"\u001b[39;00m\n\u001b[1;32m   7487\u001b[0m ordered_dims \u001b[38;5;241m=\u001b[39m \u001b[38;5;28mself\u001b[39m\u001b[38;5;241m.\u001b[39m_normalize_dim_order(dim_order\u001b[38;5;241m=\u001b[39mdim_order)\n\u001b[0;32m-> 7489\u001b[0m \u001b[38;5;28;01mreturn\u001b[39;00m \u001b[38;5;28;43mself\u001b[39;49m\u001b[38;5;241;43m.\u001b[39;49m\u001b[43m_to_dataframe\u001b[49m\u001b[43m(\u001b[49m\u001b[43mordered_dims\u001b[49m\u001b[38;5;241;43m=\u001b[39;49m\u001b[43mordered_dims\u001b[49m\u001b[43m)\u001b[49m\n",
      "File \u001b[0;32m~/miniforge3/envs/2024s1475-env/lib/python3.12/site-packages/xarray/core/dataset.py:7440\u001b[0m, in \u001b[0;36mDataset._to_dataframe\u001b[0;34m(self, ordered_dims)\u001b[0m\n\u001b[1;32m   7429\u001b[0m non_extension_array_columns \u001b[38;5;241m=\u001b[39m [\n\u001b[1;32m   7430\u001b[0m     k\n\u001b[1;32m   7431\u001b[0m     \u001b[38;5;28;01mfor\u001b[39;00m k \u001b[38;5;129;01min\u001b[39;00m columns_in_order\n\u001b[1;32m   7432\u001b[0m     \u001b[38;5;28;01mif\u001b[39;00m \u001b[38;5;129;01mnot\u001b[39;00m is_extension_array_dtype(\u001b[38;5;28mself\u001b[39m\u001b[38;5;241m.\u001b[39mvariables[k]\u001b[38;5;241m.\u001b[39mdata)\n\u001b[1;32m   7433\u001b[0m ]\n\u001b[1;32m   7434\u001b[0m extension_array_columns \u001b[38;5;241m=\u001b[39m [\n\u001b[1;32m   7435\u001b[0m     k\n\u001b[1;32m   7436\u001b[0m     \u001b[38;5;28;01mfor\u001b[39;00m k \u001b[38;5;129;01min\u001b[39;00m columns_in_order\n\u001b[1;32m   7437\u001b[0m     \u001b[38;5;28;01mif\u001b[39;00m is_extension_array_dtype(\u001b[38;5;28mself\u001b[39m\u001b[38;5;241m.\u001b[39mvariables[k]\u001b[38;5;241m.\u001b[39mdata)\n\u001b[1;32m   7438\u001b[0m ]\n\u001b[1;32m   7439\u001b[0m data \u001b[38;5;241m=\u001b[39m [\n\u001b[0;32m-> 7440\u001b[0m     \u001b[38;5;28;43mself\u001b[39;49m\u001b[38;5;241;43m.\u001b[39;49m\u001b[43m_variables\u001b[49m\u001b[43m[\u001b[49m\u001b[43mk\u001b[49m\u001b[43m]\u001b[49m\u001b[38;5;241;43m.\u001b[39;49m\u001b[43mset_dims\u001b[49m\u001b[43m(\u001b[49m\u001b[43mordered_dims\u001b[49m\u001b[43m)\u001b[49m\u001b[38;5;241;43m.\u001b[39;49m\u001b[43mvalues\u001b[49m\u001b[38;5;241m.\u001b[39mreshape(\u001b[38;5;241m-\u001b[39m\u001b[38;5;241m1\u001b[39m)\n\u001b[1;32m   7441\u001b[0m     \u001b[38;5;28;01mfor\u001b[39;00m k \u001b[38;5;129;01min\u001b[39;00m non_extension_array_columns\n\u001b[1;32m   7442\u001b[0m ]\n\u001b[1;32m   7443\u001b[0m index \u001b[38;5;241m=\u001b[39m \u001b[38;5;28mself\u001b[39m\u001b[38;5;241m.\u001b[39mcoords\u001b[38;5;241m.\u001b[39mto_index([\u001b[38;5;241m*\u001b[39mordered_dims])\n\u001b[1;32m   7444\u001b[0m broadcasted_df \u001b[38;5;241m=\u001b[39m pd\u001b[38;5;241m.\u001b[39mDataFrame(\n\u001b[1;32m   7445\u001b[0m     \u001b[38;5;28mdict\u001b[39m(\u001b[38;5;28mzip\u001b[39m(non_extension_array_columns, data, strict\u001b[38;5;241m=\u001b[39m\u001b[38;5;28;01mTrue\u001b[39;00m)), index\u001b[38;5;241m=\u001b[39mindex\n\u001b[1;32m   7446\u001b[0m )\n",
      "File \u001b[0;32m~/miniforge3/envs/2024s1475-env/lib/python3.12/site-packages/xarray/core/variable.py:566\u001b[0m, in \u001b[0;36mVariable.values\u001b[0;34m(self)\u001b[0m\n\u001b[1;32m    563\u001b[0m \u001b[38;5;129m@property\u001b[39m\n\u001b[1;32m    564\u001b[0m \u001b[38;5;28;01mdef\u001b[39;00m\u001b[38;5;250m \u001b[39m\u001b[38;5;21mvalues\u001b[39m(\u001b[38;5;28mself\u001b[39m) \u001b[38;5;241m-\u001b[39m\u001b[38;5;241m>\u001b[39m np\u001b[38;5;241m.\u001b[39mndarray:\n\u001b[1;32m    565\u001b[0m \u001b[38;5;250m    \u001b[39m\u001b[38;5;124;03m\"\"\"The variable's data as a numpy.ndarray\"\"\"\u001b[39;00m\n\u001b[0;32m--> 566\u001b[0m     \u001b[38;5;28;01mreturn\u001b[39;00m \u001b[43m_as_array_or_item\u001b[49m\u001b[43m(\u001b[49m\u001b[38;5;28;43mself\u001b[39;49m\u001b[38;5;241;43m.\u001b[39;49m\u001b[43m_data\u001b[49m\u001b[43m)\u001b[49m\n",
      "File \u001b[0;32m~/miniforge3/envs/2024s1475-env/lib/python3.12/site-packages/xarray/core/variable.py:363\u001b[0m, in \u001b[0;36m_as_array_or_item\u001b[0;34m(data)\u001b[0m\n\u001b[1;32m    349\u001b[0m \u001b[38;5;28;01mdef\u001b[39;00m\u001b[38;5;250m \u001b[39m\u001b[38;5;21m_as_array_or_item\u001b[39m(data):\n\u001b[1;32m    350\u001b[0m \u001b[38;5;250m    \u001b[39m\u001b[38;5;124;03m\"\"\"Return the given values as a numpy array, or as an individual item if\u001b[39;00m\n\u001b[1;32m    351\u001b[0m \u001b[38;5;124;03m    it's a 0d datetime64 or timedelta64 array.\u001b[39;00m\n\u001b[1;32m    352\u001b[0m \n\u001b[0;32m   (...)\u001b[0m\n\u001b[1;32m    361\u001b[0m \u001b[38;5;124;03m    TODO: remove this (replace with np.asarray) once these issues are fixed\u001b[39;00m\n\u001b[1;32m    362\u001b[0m \u001b[38;5;124;03m    \"\"\"\u001b[39;00m\n\u001b[0;32m--> 363\u001b[0m     data \u001b[38;5;241m=\u001b[39m \u001b[43mnp\u001b[49m\u001b[38;5;241;43m.\u001b[39;49m\u001b[43masarray\u001b[49m\u001b[43m(\u001b[49m\u001b[43mdata\u001b[49m\u001b[43m)\u001b[49m\n\u001b[1;32m    364\u001b[0m     \u001b[38;5;28;01mif\u001b[39;00m data\u001b[38;5;241m.\u001b[39mndim \u001b[38;5;241m==\u001b[39m \u001b[38;5;241m0\u001b[39m:\n\u001b[1;32m    365\u001b[0m         \u001b[38;5;28;01mif\u001b[39;00m data\u001b[38;5;241m.\u001b[39mdtype\u001b[38;5;241m.\u001b[39mkind \u001b[38;5;241m==\u001b[39m \u001b[38;5;124m\"\u001b[39m\u001b[38;5;124mM\u001b[39m\u001b[38;5;124m\"\u001b[39m:\n",
      "File \u001b[0;32m~/miniforge3/envs/2024s1475-env/lib/python3.12/site-packages/dask/array/core.py:1709\u001b[0m, in \u001b[0;36mArray.__array__\u001b[0;34m(self, dtype, **kwargs)\u001b[0m\n\u001b[1;32m   1708\u001b[0m \u001b[38;5;28;01mdef\u001b[39;00m\u001b[38;5;250m \u001b[39m\u001b[38;5;21m__array__\u001b[39m(\u001b[38;5;28mself\u001b[39m, dtype\u001b[38;5;241m=\u001b[39m\u001b[38;5;28;01mNone\u001b[39;00m, \u001b[38;5;241m*\u001b[39m\u001b[38;5;241m*\u001b[39mkwargs):\n\u001b[0;32m-> 1709\u001b[0m     x \u001b[38;5;241m=\u001b[39m \u001b[38;5;28;43mself\u001b[39;49m\u001b[38;5;241;43m.\u001b[39;49m\u001b[43mcompute\u001b[49m\u001b[43m(\u001b[49m\u001b[43m)\u001b[49m\n\u001b[1;32m   1710\u001b[0m     \u001b[38;5;28;01mif\u001b[39;00m dtype \u001b[38;5;129;01mand\u001b[39;00m x\u001b[38;5;241m.\u001b[39mdtype \u001b[38;5;241m!=\u001b[39m dtype:\n\u001b[1;32m   1711\u001b[0m         x \u001b[38;5;241m=\u001b[39m x\u001b[38;5;241m.\u001b[39mastype(dtype)\n",
      "File \u001b[0;32m~/miniforge3/envs/2024s1475-env/lib/python3.12/site-packages/dask/base.py:372\u001b[0m, in \u001b[0;36mDaskMethodsMixin.compute\u001b[0;34m(self, **kwargs)\u001b[0m\n\u001b[1;32m    348\u001b[0m \u001b[38;5;28;01mdef\u001b[39;00m\u001b[38;5;250m \u001b[39m\u001b[38;5;21mcompute\u001b[39m(\u001b[38;5;28mself\u001b[39m, \u001b[38;5;241m*\u001b[39m\u001b[38;5;241m*\u001b[39mkwargs):\n\u001b[1;32m    349\u001b[0m \u001b[38;5;250m    \u001b[39m\u001b[38;5;124;03m\"\"\"Compute this dask collection\u001b[39;00m\n\u001b[1;32m    350\u001b[0m \n\u001b[1;32m    351\u001b[0m \u001b[38;5;124;03m    This turns a lazy Dask collection into its in-memory equivalent.\u001b[39;00m\n\u001b[0;32m   (...)\u001b[0m\n\u001b[1;32m    370\u001b[0m \u001b[38;5;124;03m    dask.compute\u001b[39;00m\n\u001b[1;32m    371\u001b[0m \u001b[38;5;124;03m    \"\"\"\u001b[39;00m\n\u001b[0;32m--> 372\u001b[0m     (result,) \u001b[38;5;241m=\u001b[39m \u001b[43mcompute\u001b[49m\u001b[43m(\u001b[49m\u001b[38;5;28;43mself\u001b[39;49m\u001b[43m,\u001b[49m\u001b[43m \u001b[49m\u001b[43mtraverse\u001b[49m\u001b[38;5;241;43m=\u001b[39;49m\u001b[38;5;28;43;01mFalse\u001b[39;49;00m\u001b[43m,\u001b[49m\u001b[43m \u001b[49m\u001b[38;5;241;43m*\u001b[39;49m\u001b[38;5;241;43m*\u001b[39;49m\u001b[43mkwargs\u001b[49m\u001b[43m)\u001b[49m\n\u001b[1;32m    373\u001b[0m     \u001b[38;5;28;01mreturn\u001b[39;00m result\n",
      "File \u001b[0;32m~/miniforge3/envs/2024s1475-env/lib/python3.12/site-packages/dask/base.py:660\u001b[0m, in \u001b[0;36mcompute\u001b[0;34m(traverse, optimize_graph, scheduler, get, *args, **kwargs)\u001b[0m\n\u001b[1;32m    657\u001b[0m     postcomputes\u001b[38;5;241m.\u001b[39mappend(x\u001b[38;5;241m.\u001b[39m__dask_postcompute__())\n\u001b[1;32m    659\u001b[0m \u001b[38;5;28;01mwith\u001b[39;00m shorten_traceback():\n\u001b[0;32m--> 660\u001b[0m     results \u001b[38;5;241m=\u001b[39m \u001b[43mschedule\u001b[49m\u001b[43m(\u001b[49m\u001b[43mdsk\u001b[49m\u001b[43m,\u001b[49m\u001b[43m \u001b[49m\u001b[43mkeys\u001b[49m\u001b[43m,\u001b[49m\u001b[43m \u001b[49m\u001b[38;5;241;43m*\u001b[39;49m\u001b[38;5;241;43m*\u001b[39;49m\u001b[43mkwargs\u001b[49m\u001b[43m)\u001b[49m\n\u001b[1;32m    662\u001b[0m \u001b[38;5;28;01mreturn\u001b[39;00m repack([f(r, \u001b[38;5;241m*\u001b[39ma) \u001b[38;5;28;01mfor\u001b[39;00m r, (f, a) \u001b[38;5;129;01min\u001b[39;00m \u001b[38;5;28mzip\u001b[39m(results, postcomputes)])\n",
      "File \u001b[0;32m~/miniforge3/envs/2024s1475-env/lib/python3.12/queue.py:171\u001b[0m, in \u001b[0;36mQueue.get\u001b[0;34m(self, block, timeout)\u001b[0m\n\u001b[1;32m    169\u001b[0m \u001b[38;5;28;01melif\u001b[39;00m timeout \u001b[38;5;129;01mis\u001b[39;00m \u001b[38;5;28;01mNone\u001b[39;00m:\n\u001b[1;32m    170\u001b[0m     \u001b[38;5;28;01mwhile\u001b[39;00m \u001b[38;5;129;01mnot\u001b[39;00m \u001b[38;5;28mself\u001b[39m\u001b[38;5;241m.\u001b[39m_qsize():\n\u001b[0;32m--> 171\u001b[0m         \u001b[38;5;28;43mself\u001b[39;49m\u001b[38;5;241;43m.\u001b[39;49m\u001b[43mnot_empty\u001b[49m\u001b[38;5;241;43m.\u001b[39;49m\u001b[43mwait\u001b[49m\u001b[43m(\u001b[49m\u001b[43m)\u001b[49m\n\u001b[1;32m    172\u001b[0m \u001b[38;5;28;01melif\u001b[39;00m timeout \u001b[38;5;241m<\u001b[39m \u001b[38;5;241m0\u001b[39m:\n\u001b[1;32m    173\u001b[0m     \u001b[38;5;28;01mraise\u001b[39;00m \u001b[38;5;167;01mValueError\u001b[39;00m(\u001b[38;5;124m\"\u001b[39m\u001b[38;5;124m'\u001b[39m\u001b[38;5;124mtimeout\u001b[39m\u001b[38;5;124m'\u001b[39m\u001b[38;5;124m must be a non-negative number\u001b[39m\u001b[38;5;124m\"\u001b[39m)\n",
      "File \u001b[0;32m~/miniforge3/envs/2024s1475-env/lib/python3.12/threading.py:355\u001b[0m, in \u001b[0;36mCondition.wait\u001b[0;34m(self, timeout)\u001b[0m\n\u001b[1;32m    353\u001b[0m \u001b[38;5;28;01mtry\u001b[39;00m:    \u001b[38;5;66;03m# restore state no matter what (e.g., KeyboardInterrupt)\u001b[39;00m\n\u001b[1;32m    354\u001b[0m     \u001b[38;5;28;01mif\u001b[39;00m timeout \u001b[38;5;129;01mis\u001b[39;00m \u001b[38;5;28;01mNone\u001b[39;00m:\n\u001b[0;32m--> 355\u001b[0m         \u001b[43mwaiter\u001b[49m\u001b[38;5;241;43m.\u001b[39;49m\u001b[43macquire\u001b[49m\u001b[43m(\u001b[49m\u001b[43m)\u001b[49m\n\u001b[1;32m    356\u001b[0m         gotit \u001b[38;5;241m=\u001b[39m \u001b[38;5;28;01mTrue\u001b[39;00m\n\u001b[1;32m    357\u001b[0m     \u001b[38;5;28;01melse\u001b[39;00m:\n",
      "\u001b[0;31mKeyboardInterrupt\u001b[0m: "
     ]
    }
   ],
   "source": [
    "config = load_config(config_file_path)\n",
    "mask_ds = xr.open_dataset(config[\"mask_nc_filename\"])\n",
    "mask_1D = mask_ds.stack(location=(\"grid_latitude\", \"grid_longitude\"))\n",
    "\n",
    "process_ukcp_data(combined_ds, \n",
    "                  out_file_path,\n",
    "                  config,\n",
    "                  year, \n",
    "                  month, \n",
    "                  ensemble_member_id, \n",
    "                  projection_id, \n",
    "                  mask_1D)"
   ]
  }
 ],
 "metadata": {
  "kernelspec": {
   "display_name": "2024s1475-env",
   "language": "python",
   "name": "python3"
  },
  "language_info": {
   "codemirror_mode": {
    "name": "ipython",
    "version": 3
   },
   "file_extension": ".py",
   "mimetype": "text/x-python",
   "name": "python",
   "nbconvert_exporter": "python",
   "pygments_lexer": "ipython3",
   "version": "3.12.7"
  }
 },
 "nbformat": 4,
 "nbformat_minor": 2
}
