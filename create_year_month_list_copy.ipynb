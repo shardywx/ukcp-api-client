{
 "cells": [
  {
   "cell_type": "markdown",
   "metadata": {},
   "source": [
    "## Simple python function to modify a text file containing consecutive dates\n",
    "\n",
    "- Author: Sam Hardy"
   ]
  },
  {
   "cell_type": "code",
   "execution_count": 1,
   "metadata": {},
   "outputs": [],
   "source": [
    "input_file = './proj3_all_months.txt'\n",
    "output_file = './proj3_all_months_original.txt'"
   ]
  },
  {
   "cell_type": "code",
   "execution_count": 2,
   "metadata": {},
   "outputs": [],
   "source": [
    "def shift_year_month_list(input_file_path: str,\n",
    "                          output_file_path: str,\n",
    "                          increment: int):\n",
    "    \"\"\" \n",
    "    Take an input text file containing a list of dates and create a copy with all dates shifted forward or back\n",
    "    \"\"\"\n",
    "\n",
    "    with open(input_file_path, 'r') as input_file:\n",
    "        lines = input_file.readlines()\n",
    "\n",
    "    with open(output_file_path, 'w') as output_file:\n",
    "        for line in lines:\n",
    "            year_month = int(line.strip())\n",
    "\n",
    "            # split into year and month \n",
    "            year = year_month // 100\n",
    "            month = year_month % 100\n",
    "\n",
    "            # add 20 to each year and recombine into a single number (e.g. 202012)\n",
    "            new_year = year + increment\n",
    "            new_year_month = new_year * 100 + month\n",
    "\n",
    "            output_file.write(f'{new_year_month}\\n')"
   ]
  },
  {
   "cell_type": "code",
   "execution_count": 3,
   "metadata": {},
   "outputs": [],
   "source": [
    "shift_year_month_list(input_file, output_file, 20)"
   ]
  }
 ],
 "metadata": {
  "kernelspec": {
   "display_name": "2024s1475-env",
   "language": "python",
   "name": "python3"
  },
  "language_info": {
   "codemirror_mode": {
    "name": "ipython",
    "version": 3
   },
   "file_extension": ".py",
   "mimetype": "text/x-python",
   "name": "python",
   "nbconvert_exporter": "python",
   "pygments_lexer": "ipython3",
   "version": "3.12.7"
  }
 },
 "nbformat": 4,
 "nbformat_minor": 2
}
